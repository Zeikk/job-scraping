{
 "cells": [
  {
   "cell_type": "markdown",
   "source": [
    "## Extraction jobs Indeed"
   ],
   "metadata": {
    "collapsed": false,
    "pycharm": {
     "name": "#%% md\n"
    }
   }
  },
  {
   "cell_type": "code",
   "execution_count": 19,
   "outputs": [],
   "source": [
    "import requests\n",
    "import bs4\n",
    "from bs4 import BeautifulSoup\n",
    "import pandas as pd\n",
    "import time\n",
    "import datetime"
   ],
   "metadata": {
    "collapsed": false,
    "pycharm": {
     "name": "#%%\n"
    }
   }
  },
  {
   "cell_type": "code",
   "execution_count": 56,
   "outputs": [],
   "source": [
    "URL = \"https://fr.indeed.com/jobs?q=Data&l=Caen%20(14)&fromage=14\"\n",
    "page = requests.get(URL)"
   ],
   "metadata": {
    "collapsed": false,
    "pycharm": {
     "name": "#%%\n"
    }
   }
  },
  {
   "cell_type": "code",
   "execution_count": 57,
   "outputs": [],
   "source": [
    "soup = BeautifulSoup(page.text, \"html.parser\")"
   ],
   "metadata": {
    "collapsed": false,
    "pycharm": {
     "name": "#%%\n"
    }
   }
  },
  {
   "cell_type": "code",
   "execution_count": 58,
   "outputs": [
    {
     "data": {
      "text/plain": "[{'id': 'e238eb69e4efa907',\n  'title': 'Responsable data management',\n  'href': '/rc/clk?jk=e238eb69e4efa907&fccid=0aaead4d8c47d27f&vjs=3',\n  'company': 'CHU de Caen',\n  'date': datetime.date(2022, 5, 29)},\n {'id': '7d652fa8164b1a65',\n  'title': 'Chef de projet SI Data Finances F/H',\n  'href': '/rc/clk?jk=7d652fa8164b1a65&fccid=a877bc5d41a907e1&vjs=3',\n  'company': 'GH CONNECTIVE',\n  'date': datetime.date(2022, 5, 29)},\n {'id': 'dc1a4c4b92ef91f0',\n  'title': 'DATA PROTECTION OPERATIONAL EXPERT - H/F',\n  'href': '/pagead/clk?mo=r&ad=-6NYlbfkN0A1-6pvzaU6ZhOjINqWX4TK5hlsh0JRMF6KIiSsWm6EdHLizJ_Sf_X6V058ITpFA9DiMNeamlMFa887llq03zpLysbqvet8FohS0E7ybwcXjNV-8jfZOvkJ7eTibpRK8vgJ-HwR5L4nqEX5bOK1p8mZJKLUPFZXGx0xQPBfwj23hF4kENauUN01WppMJOqJzLGeHIDfblpK0OvCi2JGdptc9WtX8gaJ8i5yXZJq2ss8qY2nbM_Pg9CbGvyv5EJQy0Y1jPUDnC0OS1tByPSjYHuLRCXTLHrCkcevnX-uzltNfHtW7L3GDnG1r7S66MlGt80Zl96rhn0VWATNnVUk_52Cac-4ikblQUchwWXojhhdd_xprVwBm70kKfaPb5WLgAnSW9haBLL1E8D03BIfS_RKsDO5Aufsp88Seapk7OEDfUsDiTvAenfRcM_sUH4z0HIXs3fxC0fHDyy75PUOPED10zGiGvaWkJFmwjySl9e7QqbUrEDAM_8HITHAo7g4ZDYWEAO4DBJhXVQ6zJuj-ZGTaMM9yd22e1x7jR43XBcpb5KwKtt1TiXCSnNHVRaWGrEiaSNQ3zk-yO60hxdfZUpU1JFwnsLPoLE=&p=2&fvj=0&vjs=3',\n  'company': 'BNP Paribas',\n  'date': datetime.date(2022, 5, 29)}]"
     },
     "execution_count": 58,
     "metadata": {},
     "output_type": "execute_result"
    }
   ],
   "source": [
    "def extract_job_from_result(soup):\n",
    "    jobs = []\n",
    "    for div in soup.find_all(name=\"ul\", attrs={\"class\":\"jobsearch-ResultsList\"}):\n",
    "        for td in div.find_all(name=\"td\", attrs={\"class\": \"resultContent\"}):\n",
    "            job = dict()\n",
    "\n",
    "            for a in td.find_all(name=\"a\", attrs={\"class\":\"jcs-JobTitle\"}):\n",
    "                for span in a.find_all(name=\"span\"):\n",
    "                    job['id'] = a['id'].replace('job_', '').replace('sj_', '')\n",
    "                    job['title'] = span['title']\n",
    "                    job['href'] =  a['href']\n",
    "\n",
    "            for span in td.find_all(name=\"span\", attrs={\"class\": \"companyName\"}):\n",
    "                a = td.find_all(name=\"a\", attrs={\"data-tn-element\": \"companyName\"})\n",
    "                if(len(a) == 0):\n",
    "                    job['company'] = span.text.strip()\n",
    "                else:\n",
    "                    job['company'] = a[0].text.strip()\n",
    "\n",
    "            job['date'] = datetime.date.today()\n",
    "\n",
    "            jobs.append(job)\n",
    "\n",
    "    return(jobs)\n",
    "\n",
    "extract_job_from_result(soup)"
   ],
   "metadata": {
    "collapsed": false,
    "pycharm": {
     "name": "#%%\n"
    }
   }
  },
  {
   "cell_type": "code",
   "execution_count": 62,
   "outputs": [
    {
     "ename": "TypeError",
     "evalue": "unbound method datetime.date() needs an argument",
     "output_type": "error",
     "traceback": [
      "\u001B[1;31m---------------------------------------------------------------------------\u001B[0m",
      "\u001B[1;31mTypeError\u001B[0m                                 Traceback (most recent call last)",
      "Input \u001B[1;32mIn [62]\u001B[0m, in \u001B[0;36m<cell line: 1>\u001B[1;34m()\u001B[0m\n\u001B[1;32m----> 1\u001B[0m \u001B[43mdatetime\u001B[49m\u001B[38;5;241;43m.\u001B[39;49m\u001B[43mdatetime\u001B[49m\u001B[38;5;241;43m.\u001B[39;49m\u001B[43mdate\u001B[49m\u001B[43m(\u001B[49m\u001B[43m)\u001B[49m\n",
      "\u001B[1;31mTypeError\u001B[0m: unbound method datetime.date() needs an argument"
     ]
    }
   ],
   "source": [
    "datetime.datetime."
   ],
   "metadata": {
    "collapsed": false,
    "pycharm": {
     "name": "#%%\n"
    }
   }
  },
  {
   "cell_type": "code",
   "execution_count": null,
   "outputs": [],
   "source": [],
   "metadata": {
    "collapsed": false,
    "pycharm": {
     "name": "#%%\n"
    }
   }
  }
 ],
 "metadata": {
  "kernelspec": {
   "display_name": "Python 3",
   "language": "python",
   "name": "python3"
  },
  "language_info": {
   "codemirror_mode": {
    "name": "ipython",
    "version": 2
   },
   "file_extension": ".py",
   "mimetype": "text/x-python",
   "name": "python",
   "nbconvert_exporter": "python",
   "pygments_lexer": "ipython2",
   "version": "2.7.6"
  }
 },
 "nbformat": 4,
 "nbformat_minor": 0
}